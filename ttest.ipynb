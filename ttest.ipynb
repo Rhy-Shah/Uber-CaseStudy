{
 "cells": [
  {
   "cell_type": "code",
   "execution_count": 4,
   "metadata": {},
   "outputs": [],
   "source": [
    "from scipy.stats import norm\n",
    "import numpy as np\n",
    "import pandas as pd\n",
    "from scipy.stats import ttest_1samp, ttest_ind, ttest_rel"
   ]
  },
  {
   "cell_type": "code",
   "execution_count": 5,
   "metadata": {},
   "outputs": [
    {
     "data": {
      "text/html": [
       "<div>\n",
       "<style scoped>\n",
       "    .dataframe tbody tr th:only-of-type {\n",
       "        vertical-align: middle;\n",
       "    }\n",
       "\n",
       "    .dataframe tbody tr th {\n",
       "        vertical-align: top;\n",
       "    }\n",
       "\n",
       "    .dataframe thead th {\n",
       "        text-align: right;\n",
       "    }\n",
       "</style>\n",
       "<table border=\"1\" class=\"dataframe\">\n",
       "  <thead>\n",
       "    <tr style=\"text-align: right;\">\n",
       "      <th></th>\n",
       "      <th>Person</th>\n",
       "      <th>Gender</th>\n",
       "      <th>Married</th>\n",
       "      <th>Age</th>\n",
       "      <th>Children</th>\n",
       "      <th>Salary</th>\n",
       "      <th>Spent</th>\n",
       "    </tr>\n",
       "  </thead>\n",
       "  <tbody>\n",
       "    <tr>\n",
       "      <th>0</th>\n",
       "      <td>1</td>\n",
       "      <td>Male</td>\n",
       "      <td>No</td>\n",
       "      <td>28</td>\n",
       "      <td>1</td>\n",
       "      <td>48600</td>\n",
       "      <td>750</td>\n",
       "    </tr>\n",
       "    <tr>\n",
       "      <th>1</th>\n",
       "      <td>2</td>\n",
       "      <td>Male</td>\n",
       "      <td>Yes</td>\n",
       "      <td>35</td>\n",
       "      <td>2</td>\n",
       "      <td>75500</td>\n",
       "      <td>1980</td>\n",
       "    </tr>\n",
       "    <tr>\n",
       "      <th>2</th>\n",
       "      <td>3</td>\n",
       "      <td>Female</td>\n",
       "      <td>No</td>\n",
       "      <td>33</td>\n",
       "      <td>2</td>\n",
       "      <td>58900</td>\n",
       "      <td>1820</td>\n",
       "    </tr>\n",
       "    <tr>\n",
       "      <th>3</th>\n",
       "      <td>4</td>\n",
       "      <td>Female</td>\n",
       "      <td>Yes</td>\n",
       "      <td>53</td>\n",
       "      <td>1</td>\n",
       "      <td>92200</td>\n",
       "      <td>990</td>\n",
       "    </tr>\n",
       "    <tr>\n",
       "      <th>4</th>\n",
       "      <td>5</td>\n",
       "      <td>Female</td>\n",
       "      <td>No</td>\n",
       "      <td>49</td>\n",
       "      <td>1</td>\n",
       "      <td>100700</td>\n",
       "      <td>1990</td>\n",
       "    </tr>\n",
       "  </tbody>\n",
       "</table>\n",
       "</div>"
      ],
      "text/plain": [
       "   Person  Gender Married  Age  Children  Salary  Spent\n",
       "0       1    Male      No   28         1   48600    750\n",
       "1       2    Male     Yes   35         2   75500   1980\n",
       "2       3  Female      No   33         2   58900   1820\n",
       "3       4  Female     Yes   53         1   92200    990\n",
       "4       5  Female      No   49         1  100700   1990"
      ]
     },
     "execution_count": 5,
     "metadata": {},
     "output_type": "execute_result"
    }
   ],
   "source": [
    "df = pd.read_excel('Chapter_08_MC_Expenses_DataSet4_Q6.xlsx')\n",
    "df.head()"
   ]
  },
  {
   "cell_type": "code",
   "execution_count": 6,
   "metadata": {},
   "outputs": [],
   "source": [
    "df_married = df[df['Married']==\"Yes\"]\n",
    "df_unmarried = df[df['Married']==\"No\"]"
   ]
  },
  {
   "cell_type": "code",
   "execution_count": 7,
   "metadata": {},
   "outputs": [
    {
     "data": {
      "text/plain": [
       "Person      56\n",
       "Gender      56\n",
       "Married     56\n",
       "Age         56\n",
       "Children    56\n",
       "Salary      56\n",
       "Spent       56\n",
       "dtype: int64"
      ]
     },
     "execution_count": 7,
     "metadata": {},
     "output_type": "execute_result"
    }
   ],
   "source": [
    "df_married.count()"
   ]
  },
  {
   "cell_type": "code",
   "execution_count": 8,
   "metadata": {},
   "outputs": [
    {
     "data": {
      "text/plain": [
       "Person      44\n",
       "Gender      44\n",
       "Married     44\n",
       "Age         44\n",
       "Children    44\n",
       "Salary      44\n",
       "Spent       44\n",
       "dtype: int64"
      ]
     },
     "execution_count": 8,
     "metadata": {},
     "output_type": "execute_result"
    }
   ],
   "source": [
    "df_unmarried.count()"
   ]
  },
  {
   "cell_type": "code",
   "execution_count": 14,
   "metadata": {},
   "outputs": [
    {
     "name": "stdout",
     "output_type": "stream",
     "text": [
      "T-statistic: 3.276129878083237, P-value: 0.0014559287639784716\n"
     ]
    }
   ],
   "source": [
    "t_stat, p_value = ttest_ind(df_married['Salary'], df_unmarried['Salary'], equal_var=True)\n",
    "print(f\"T-statistic: {t_stat}, P-value: {p_value}\")"
   ]
  },
  {
   "cell_type": "code",
   "execution_count": 19,
   "metadata": {},
   "outputs": [],
   "source": [
    "mean_salary = df['Salary'].mean()\n",
    "std_salary = df['Salary'].std()"
   ]
  },
  {
   "cell_type": "code",
   "execution_count": 21,
   "metadata": {},
   "outputs": [],
   "source": [
    "confidence_level = 0.95\n",
    "# BEGIN: calculate the upper bound and lower bound using the t-statistic, p-value, and means\n",
    "import scipy.stats as stats\n",
    "# Calculate the standard error\n",
    "standard_error = std_salary / np.sqrt(len(df['Salary']))\n",
    "\n",
    "# Calculate the margin of error\n",
    "margin_of_error = t_stat * standard_error\n",
    "\n",
    "# Calculate the lower and upper limits\n",
    "lower_limit = mean_salary - margin_of_error\n",
    "upper_limit = mean_salary + margin_of_error\n"
   ]
  },
  {
   "cell_type": "code",
   "execution_count": 22,
   "metadata": {},
   "outputs": [
    {
     "data": {
      "text/plain": [
       "(np.float64(86064.94534913007), np.float64(103395.05465086993))"
      ]
     },
     "execution_count": 22,
     "metadata": {},
     "output_type": "execute_result"
    }
   ],
   "source": [
    "lower_limit, upper_limit"
   ]
  },
  {
   "cell_type": "code",
   "execution_count": 32,
   "metadata": {},
   "outputs": [],
   "source": [
    "import math\n",
    "from scipy import stats\n",
    "\n",
    "def confidence_interval_difference(mean1, mean2, std1, std2, n1, n2, confidence=0.95):\n",
    "    # Pooled standard deviation\n",
    "    sp = math.sqrt(((n1 - 1) * std1**2 + (n2 - 1) * std2**2) / (n1 + n2 - 2))\n",
    "    \n",
    "    # Degrees of freedom\n",
    "    dof = n1 + n2 - 2\n",
    "\n",
    "    # t critical value for the given confidence level\n",
    "    t_critical = stats.t.ppf(1 - (1 - confidence) / 2, dof)\n",
    "    print(f\"t_critical: {t_critical}\")\n",
    "    # Margin of error\n",
    "    margin_of_error = t_critical * sp * math.sqrt(1/n1 + 1/n2)\n",
    "    \n",
    "    # Confidence interval\n",
    "    lower_limit = (mean1 - mean2) - margin_of_error\n",
    "    upper_limit = (mean1 - mean2) + margin_of_error\n",
    "    \n",
    "    return lower_limit, upper_limit\n"
   ]
  },
  {
   "cell_type": "code",
   "execution_count": 33,
   "metadata": {},
   "outputs": [
    {
     "name": "stdout",
     "output_type": "stream",
     "text": [
      "t_critical: 1.984467454426692\n"
     ]
    },
    {
     "data": {
      "text/plain": [
       "(np.float64(6567.1317250288375), np.float64(26746.17996328285))"
      ]
     },
     "execution_count": 33,
     "metadata": {},
     "output_type": "execute_result"
    }
   ],
   "source": [
    "# Separate the data for married and unmarried individuals\n",
    "married_salaries = df[df['Married'] == 'Yes']['Salary']\n",
    "unmarried_salaries = df[df['Married'] == 'No']['Salary']\n",
    "\n",
    "# Calculate the means, standard deviations, and sample sizes\n",
    "mean_married = married_salaries.mean()\n",
    "mean_unmarried = unmarried_salaries.mean()\n",
    "\n",
    "std_married = married_salaries.std()\n",
    "std_unmarried = unmarried_salaries.std()\n",
    "\n",
    "n_married = married_salaries.count()\n",
    "n_unmarried = unmarried_salaries.count()\n",
    "\n",
    "# Use the previously defined function to calculate the confidence interval\n",
    "lower, upper = confidence_interval_difference(mean_married, mean_unmarried, std_married, std_unmarried, n_married, n_unmarried)\n",
    "lower, upper\n"
   ]
  },
  {
   "cell_type": "code",
   "execution_count": null,
   "metadata": {},
   "outputs": [],
   "source": []
  }
 ],
 "metadata": {
  "kernelspec": {
   "display_name": "Python 3",
   "language": "python",
   "name": "python3"
  },
  "language_info": {
   "codemirror_mode": {
    "name": "ipython",
    "version": 3
   },
   "file_extension": ".py",
   "mimetype": "text/x-python",
   "name": "python",
   "nbconvert_exporter": "python",
   "pygments_lexer": "ipython3",
   "version": "3.12.5"
  }
 },
 "nbformat": 4,
 "nbformat_minor": 2
}
